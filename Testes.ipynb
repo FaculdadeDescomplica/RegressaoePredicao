{
  "nbformat": 4,
  "nbformat_minor": 0,
  "metadata": {
    "colab": {
      "provenance": []
    },
    "kernelspec": {
      "name": "python3",
      "display_name": "Python 3"
    },
    "language_info": {
      "name": "python"
    }
  },
  "cells": [
    {
      "cell_type": "markdown",
      "source": [
        "# **TESTES - PARTE 1, PARTE 2 e PARTE 3 (Falso Positivo e Falso Negativo; Precisão/Recall e F1 Score)**"
      ],
      "metadata": {
        "id": "95q-18ODayKM"
      }
    },
    {
      "cell_type": "code",
      "execution_count": null,
      "metadata": {
        "id": "nV8OnW7ZZ0O0"
      },
      "outputs": [],
      "source": [
        "import pandas as pd\n",
        "from sklearn.model_selection import train_test_split\n",
        "from sklearn.ensemble import ExtraTreesClassifier\n",
        "from sklearn.metrics import plot_confusion_matrix, classification_report, confusion_matrix\n",
        "import matplotlib.pyplot as plt"
      ]
    },
    {
      "cell_type": "code",
      "source": [
        "a = pd.read_csv('/content/wine_dataset.csv')"
      ],
      "metadata": {
        "id": "IqcZ70Gxbdxs"
      },
      "execution_count": null,
      "outputs": []
    },
    {
      "cell_type": "code",
      "source": [
        "y = a['style']\n",
        "X = a.drop('style', axis=1)"
      ],
      "metadata": {
        "id": "6AaWCsvgbmtc"
      },
      "execution_count": null,
      "outputs": []
    },
    {
      "cell_type": "code",
      "source": [
        "X_treino, X_teste, y_treino, y_teste = train_test_split(X, y, test_size=0.3)"
      ],
      "metadata": {
        "id": "wEvqOZPKbo9U"
      },
      "execution_count": null,
      "outputs": []
    },
    {
      "cell_type": "code",
      "source": [
        "modelo = ExtraTreesClassifier()"
      ],
      "metadata": {
        "id": "sXsCpmZEbu60"
      },
      "execution_count": null,
      "outputs": []
    },
    {
      "cell_type": "code",
      "source": [
        "modelo.fit(X_treino, y_treino)"
      ],
      "metadata": {
        "colab": {
          "base_uri": "https://localhost:8080/"
        },
        "id": "THUHhV9ob0cW",
        "outputId": "eaca23f2-4924-4232-e3ca-207474ccc56a"
      },
      "execution_count": null,
      "outputs": [
        {
          "output_type": "execute_result",
          "data": {
            "text/plain": [
              "ExtraTreesClassifier()"
            ]
          },
          "metadata": {},
          "execution_count": 7
        }
      ]
    },
    {
      "cell_type": "code",
      "source": [
        "plot_confusion_matrix(modelo, X_teste, y_teste, cmap=plt.cm.Blues, display_labels=['red', 'white'])"
      ],
      "metadata": {
        "colab": {
          "base_uri": "https://localhost:8080/",
          "height": 351
        },
        "id": "VaPJnEhMb2hR",
        "outputId": "efef54ac-c02e-4a39-af24-8b463459800d"
      },
      "execution_count": null,
      "outputs": [
        {
          "output_type": "stream",
          "name": "stderr",
          "text": [
            "/usr/local/lib/python3.8/dist-packages/sklearn/utils/deprecation.py:87: FutureWarning: Function plot_confusion_matrix is deprecated; Function `plot_confusion_matrix` is deprecated in 1.0 and will be removed in 1.2. Use one of the class methods: ConfusionMatrixDisplay.from_predictions or ConfusionMatrixDisplay.from_estimator.\n",
            "  warnings.warn(msg, category=FutureWarning)\n"
          ]
        },
        {
          "output_type": "execute_result",
          "data": {
            "text/plain": [
              "<sklearn.metrics._plot.confusion_matrix.ConfusionMatrixDisplay at 0x7f5c2b3faca0>"
            ]
          },
          "metadata": {},
          "execution_count": 10
        },
        {
          "output_type": "display_data",
          "data": {
            "text/plain": [
              "<Figure size 432x288 with 2 Axes>"
            ],
            "image/png": "[encoded data removed]"
          },
          "metadata": {
            "needs_background": "light"
          }
        }
      ]
    },
    {
      "cell_type": "code",
      "source": [
        "predictions = modelo.predict(X_teste)"
      ],
      "metadata": {
        "id": "_y1pG_C2eZRg"
      },
      "execution_count": null,
      "outputs": []
    },
    {
      "cell_type": "code",
      "source": [
        "print(classification_report(y_teste, predictions))"
      ],
      "metadata": {
        "colab": {
          "base_uri": "https://localhost:8080/"
        },
        "id": "3wNNpG1wdV2Y",
        "outputId": "1beaa8fc-0f7e-40e9-af37-1450f78f1b84"
      },
      "execution_count": null,
      "outputs": [
        {
          "output_type": "stream",
          "name": "stdout",
          "text": [
            "              precision    recall  f1-score   support\n",
            "\n",
            "         red       1.00      0.98      0.99       485\n",
            "       white       0.99      1.00      1.00      1465\n",
            "\n",
            "    accuracy                           0.99      1950\n",
            "   macro avg       1.00      0.99      0.99      1950\n",
            "weighted avg       0.99      0.99      0.99      1950\n",
            "\n"
          ]
        }
      ]
    },
    {
      "cell_type": "code",
      "source": [
        "print(confusion_matrix(y_teste, predictions))"
      ],
      "metadata": {
        "colab": {
          "base_uri": "https://localhost:8080/"
        },
        "id": "B4Zw5HvRerse",
        "outputId": "fd8c9af4-7327-4694-cb88-bf6a966e0ffe"
      },
      "execution_count": null,
      "outputs": [
        {
          "output_type": "stream",
          "name": "stdout",
          "text": [
            "[[ 474   11]\n",
            " [   1 1464]]\n"
          ]
        }
      ]
    },
    {
      "cell_type": "markdown",
      "source": [
        "# **TESTES - PARTE 4 e PARTE 5 (Anomalias e Overfitting)**\n",
        "\n"
      ],
      "metadata": {
        "id": "mqTR7w5zfA7D"
      }
    },
    {
      "cell_type": "code",
      "source": [
        "import pandas as pd\n",
        "import numpy as np\n",
        "import seaborn as sns\n",
        "from matplotlib import pyplot as plt\n",
        "import scipy.optimize as opt"
      ],
      "metadata": {
        "id": "DJonxtZPiz6l"
      },
      "execution_count": null,
      "outputs": []
    },
    {
      "cell_type": "code",
      "source": [
        "import scipy.io as spio\n",
        "arquivo = '/content/dadosanomalias.mat'\n",
        "data = spio.loadmat(arquivo)"
      ],
      "metadata": {
        "id": "WuRzV40Ph3EQ"
      },
      "execution_count": null,
      "outputs": []
    },
    {
      "cell_type": "code",
      "source": [
        "X = np.array(data['X'])\n",
        "\n",
        "X_val = np.array(data['Xval'])\n",
        "y_val = data['yval'].flatten()"
      ],
      "metadata": {
        "id": "E5m7_dWKhhsB"
      },
      "execution_count": null,
      "outputs": []
    },
    {
      "cell_type": "code",
      "source": [
        "plt.figure(figsize=(9,7))\n",
        "plt.grid(color='0.7', linestyle=':', linewidth=0.5)\n",
        "\n",
        "#Dispersão dos dados\n",
        "plt.scatter(X[:,0], X[:,1], marker='x', alpha=0.5)\n",
        "\n",
        "\n",
        "#Configurações visuais adicionais\n",
        "plt.title('Dados',\n",
        "          fontweight='bold')\n",
        "plt.ylabel('y', fontweight='bold')\n",
        "plt.xlabel('x', fontweight='bold')\n",
        "plt.axis('equal')\n",
        "sns.despine()"
      ],
      "metadata": {
        "colab": {
          "base_uri": "https://localhost:8080/",
          "height": 458
        },
        "id": "CUtZr8xLi4Fl",
        "outputId": "3daffcc6-13a2-47c4-9e31-984ac4d169cd"
      },
      "execution_count": null,
      "outputs": [
        {
          "output_type": "display_data",
          "data": {
            "text/plain": [
              "<Figure size 648x504 with 1 Axes>"
            ],
            "image/png": "[encoded data removed]"
          },
          "metadata": {
            "needs_background": "light"
          }
        }
      ]
    },
    {
      "cell_type": "markdown",
      "source": [
        "**O que são anomalias?**\n",
        "Conjunto de pontos de dados que são consideravelmente\n",
        "diferentes do restante dos dados. Será que estes pontos estão interferindo nos resultados?\n",
        "\n",
        "**O que são ruídos?**\n",
        "Valores ou objetos que estão contaminando a base de dados.\n",
        "\n",
        "Dados registrados de forma equivocada.\n",
        "\n",
        "\n",
        "# **Validação Cruzada**\n",
        "\n",
        "Dividindo os dados de treinamento e teste em vários subconjuntos, a validação cruzada permite que os modelos sejam avaliados e comparados a partir de diferentes conjuntos de dados de treinamento e testes. Isso diminui os efeitos de variações nos dados ao longo do tempo, o que pode levar a resultados mais confiáveis e precisos.\n",
        "\n",
        "A validação cruzada k-fold é útil para avaliar o desempenho de um modelo de ML em diferentes conjuntos de dados, pois permite que você treine e avalie o modelo em todos os dados que você tem. Isso fornece uma estimativa mais precisa sobre como o modelo se comportará quando for usado em novos dados. Além disso, a validação cruzada k-fold pode ser usada para encontrar a melhor combinação de parâmetros para um modelo de ML, pois permite que você teste várias diferentes configurações de parâmetros no mesmo conjunto de dados."
      ],
      "metadata": {
        "id": "h9mo5XALjDY-"
      }
    },
    {
      "cell_type": "code",
      "source": [
        "import matplotlib.pyplot as plt\n",
        "import pandas as pd"
      ],
      "metadata": {
        "id": "LaN2zXv4mHYj"
      },
      "execution_count": null,
      "outputs": []
    },
    {
      "cell_type": "code",
      "source": [
        "from sklearn.model_selection import cross_val_score # Cross Validation Function.\n",
        "from sklearn.model_selection import KFold # KFold Class.\n",
        "from sklearn.linear_model import LinearRegression # Linear Regression class."
      ],
      "metadata": {
        "id": "uIo8pU7mmI7I"
      },
      "execution_count": null,
      "outputs": []
    },
    {
      "cell_type": "code",
      "source": [
        "df = pd.read_csv(\"/content/Admission_Predict.csv\")"
      ],
      "metadata": {
        "id": "mkE1gi4imLF7"
      },
      "execution_count": null,
      "outputs": []
    },
    {
      "cell_type": "code",
      "source": [
        "df.drop('Serial No.', axis = 1, inplace = True)"
      ],
      "metadata": {
        "id": "Z0dPc-MkmgMQ"
      },
      "execution_count": null,
      "outputs": []
    },
    {
      "cell_type": "code",
      "source": [
        "x = df.drop('Chance of Admit ', axis = 1)\n",
        "y = df['Chance of Admit ']"
      ],
      "metadata": {
        "id": "DqRN5j2nmhlp"
      },
      "execution_count": null,
      "outputs": []
    },
    {
      "cell_type": "code",
      "source": [
        "model  = LinearRegression()\n",
        "kfold  = KFold(n_splits=5, shuffle=True) # shuffle=True, Shuffle (embaralhar) the data.\n",
        "result = cross_val_score(model, x, y, cv = kfold)"
      ],
      "metadata": {
        "id": "7OuFED4rmjfE"
      },
      "execution_count": null,
      "outputs": []
    },
    {
      "cell_type": "code",
      "source": [
        "print(\"K-Fold (R^2) Scores: {0}\".format(result))\n",
        "print(\"Mean R^2 for Cross-Validation K-Fold: {0}\".format(result.mean()))"
      ],
      "metadata": {
        "id": "qimL0MM4mnAR",
        "outputId": "518ec217-e76f-4fae-c5bb-9976baeba93b",
        "colab": {
          "base_uri": "https://localhost:8080/"
        }
      },
      "execution_count": null,
      "outputs": [
        {
          "output_type": "stream",
          "name": "stdout",
          "text": [
            "K-Fold (R^2) Scores: [0.85715099 0.72307881 0.77098766 0.80243237 0.7975308 ]\n",
            "Mean R^2 for Cross-Validation K-Fold: 0.7902361271258662\n"
          ]
        }
      ]
    }
  ]
}