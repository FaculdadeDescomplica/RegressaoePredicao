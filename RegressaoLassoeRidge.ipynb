{
  "nbformat": 4,
  "nbformat_minor": 0,
  "metadata": {
    "colab": {
      "provenance": []
    },
    "kernelspec": {
      "name": "python3",
      "display_name": "Python 3"
    },
    "language_info": {
      "name": "python"
    }
  },
  "cells": [
    {
      "cell_type": "markdown",
      "source": [
        "# **REGRESSÃO LASSO E RIDGE - PARTE 1 (Definindo Regressão LASSO)**\n",
        "\n",
        "A regressão Ridge e Lasso são técnicas poderosas geralmente usadas para criar modelos que possuam um \"grande\" número de recursos. Aqui, ‘grande’ pode normalmente significar uma de duas coisas:\n",
        "•\tGrande o suficiente para aumentar a tendência de um modelo de overfitting (tão baixo quanto 10 variáveis podem causar overfitting)\n",
        "•\tGrande o suficiente para causar desafios computacionais. Com sistemas modernos, essa situação pode surgir no caso de milhões ou bilhões de recursos.\n",
        "\n",
        "Embora Ridge e Lasso possam parecer trabalhar para um objetivo comum, as propriedades inerentes e os casos de uso prático diferem substancialmente. Se você já ouviu falar deles antes, deve saber que eles funcionam penalizando a magnitude dos coeficientes dos recursos, além de minimizar o erro entre as observações previstas e reais. Estas são chamadas de técnicas de “regularização”.\n",
        "\n",
        "A regressão Lasso realiza a regularização L1, ou seja, adiciona um fator de soma do valor absoluto dos coeficientes no objetivo de otimização. Assim, a regressão de laço otimiza o seguinte:\n",
        "Objetivo = RSS + α * (soma do valor absoluto dos coeficientes)\n",
        "Aqui, α (alfa) funciona de maneira semelhante à de ridge e fornece uma compensação entre o RSS de balanceamento e a magnitude dos coeficientes. Naturalmente, α pode assumir vários valores. Vamos descrevê-los aqui brevemente:\n",
        "\n",
        "α = 0: Mesmos coeficientes da regressão linear simples\n",
        "α = ∞: Todos os coeficientes zero (mesma lógica de antes)\n",
        "0 < α < ∞: coeficientes entre 0 e o da regressão linear simples\n",
        "\n"
      ],
      "metadata": {
        "id": "mgmrtUGxnEHR"
      }
    },
    {
      "cell_type": "markdown",
      "source": [
        "# **REGRESSÃO LASSO E RIDGE - PARTE 2 (Estimativas com Regressão LASSO)**\n",
        "\n"
      ],
      "metadata": {
        "id": "ucwGV4OS6e0j"
      }
    },
    {
      "cell_type": "code",
      "execution_count": 1,
      "metadata": {
        "id": "Mz61Y4VhnBcU"
      },
      "outputs": [],
      "source": [
        "import numpy as np\n",
        "import pandas as pd\n",
        "import matplotlib.pyplot as plt"
      ]
    },
    {
      "cell_type": "code",
      "source": [
        "dados = pd.read_csv('/content/Regresao_Lasso_Ridge.csv')"
      ],
      "metadata": {
        "id": "Dt4q_Yp96gAo"
      },
      "execution_count": 2,
      "outputs": []
    },
    {
      "cell_type": "code",
      "source": [
        "dados.head()"
      ],
      "metadata": {
        "colab": {
          "base_uri": "https://localhost:8080/",
          "height": 206
        },
        "id": "87LQSHmK701v",
        "outputId": "c2bf5ab0-18e2-4418-ef4a-171e4abeb4a6"
      },
      "execution_count": 3,
      "outputs": [
        {
          "output_type": "execute_result",
          "data": {
            "text/plain": [
              "    mpg  cylinders  displacement horsepower  weight  acceleration  year  \\\n",
              "0  18.0          8         307.0        130    3504          12.0    70   \n",
              "1  15.0          8         350.0        165    3693          11.5    70   \n",
              "2  18.0          8         318.0        150    3436          11.0    70   \n",
              "3  16.0          8         304.0        150    3433          12.0    70   \n",
              "4  17.0          8         302.0        140    3449          10.5    70   \n",
              "\n",
              "   origin                       name  \n",
              "0       1  chevrolet chevelle malibu  \n",
              "1       1          buick skylark 320  \n",
              "2       1         plymouth satellite  \n",
              "3       1              amc rebel sst  \n",
              "4       1                ford torino  "
            ],
            "text/html": [
              "\n",
              "  <div id=\"df-42ff4612-8f8e-4fed-9c34-1bc1be524f31\">\n",
              "    <div class=\"colab-df-container\">\n",
              "      <div>\n",
              "<style scoped>\n",
              "    .dataframe tbody tr th:only-of-type {\n",
              "        vertical-align: middle;\n",
              "    }\n",
              "\n",
              "    .dataframe tbody tr th {\n",
              "        vertical-align: top;\n",
              "    }\n",
              "\n",
              "    .dataframe thead th {\n",
              "        text-align: right;\n",
              "    }\n",
              "</style>\n",
              "<table border=\"1\" class=\"dataframe\">\n",
              "  <thead>\n",
              "    <tr style=\"text-align: right;\">\n",
              "      <th></th>\n",
              "      <th>mpg</th>\n",
              "      <th>cylinders</th>\n",
              "      <th>displacement</th>\n",
              "      <th>horsepower</th>\n",
              "      <th>weight</th>\n",
              "      <th>acceleration</th>\n",
              "      <th>year</th>\n",
              "      <th>origin</th>\n",
              "      <th>name</th>\n",
              "    </tr>\n",
              "  </thead>\n",
              "  <tbody>\n",
              "    <tr>\n",
              "      <th>0</th>\n",
              "      <td>18.0</td>\n",
              "      <td>8</td>\n",
              "      <td>307.0</td>\n",
              "      <td>130</td>\n",
              "      <td>3504</td>\n",
              "      <td>12.0</td>\n",
              "      <td>70</td>\n",
              "      <td>1</td>\n",
              "      <td>chevrolet chevelle malibu</td>\n",
              "    </tr>\n",
              "    <tr>\n",
              "      <th>1</th>\n",
              "      <td>15.0</td>\n",
              "      <td>8</td>\n",
              "      <td>350.0</td>\n",
              "      <td>165</td>\n",
              "      <td>3693</td>\n",
              "      <td>11.5</td>\n",
              "      <td>70</td>\n",
              "      <td>1</td>\n",
              "      <td>buick skylark 320</td>\n",
              "    </tr>\n",
              "    <tr>\n",
              "      <th>2</th>\n",
              "      <td>18.0</td>\n",
              "      <td>8</td>\n",
              "      <td>318.0</td>\n",
              "      <td>150</td>\n",
              "      <td>3436</td>\n",
              "      <td>11.0</td>\n",
              "      <td>70</td>\n",
              "      <td>1</td>\n",
              "      <td>plymouth satellite</td>\n",
              "    </tr>\n",
              "    <tr>\n",
              "      <th>3</th>\n",
              "      <td>16.0</td>\n",
              "      <td>8</td>\n",
              "      <td>304.0</td>\n",
              "      <td>150</td>\n",
              "      <td>3433</td>\n",
              "      <td>12.0</td>\n",
              "      <td>70</td>\n",
              "      <td>1</td>\n",
              "      <td>amc rebel sst</td>\n",
              "    </tr>\n",
              "    <tr>\n",
              "      <th>4</th>\n",
              "      <td>17.0</td>\n",
              "      <td>8</td>\n",
              "      <td>302.0</td>\n",
              "      <td>140</td>\n",
              "      <td>3449</td>\n",
              "      <td>10.5</td>\n",
              "      <td>70</td>\n",
              "      <td>1</td>\n",
              "      <td>ford torino</td>\n",
              "    </tr>\n",
              "  </tbody>\n",
              "</table>\n",
              "</div>\n",
              "      <button class=\"colab-df-convert\" onclick=\"convertToInteractive('df-42ff4612-8f8e-4fed-9c34-1bc1be524f31')\"\n",
              "              title=\"Convert this dataframe to an interactive table.\"\n",
              "              style=\"display:none;\">\n",
              "        \n",
              "  <svg xmlns=\"http://www.w3.org/2000/svg\" height=\"24px\"viewBox=\"0 0 24 24\"\n",
              "       width=\"24px\">\n",
              "    <path d=\"M0 0h24v24H0V0z\" fill=\"none\"/>\n",
              "    <path d=\"M18.56 5.44l.94 2.06.94-2.06 2.06-.94-2.06-.94-.94-2.06-.94 2.06-2.06.94zm-11 1L8.5 8.5l.94-2.06 2.06-.94-2.06-.94L8.5 2.5l-.94 2.06-2.06.94zm10 10l.94 2.06.94-2.06 2.06-.94-2.06-.94-.94-2.06-.94 2.06-2.06.94z\"/><path d=\"M17.41 7.96l-1.37-1.37c-.4-.4-.92-.59-1.43-.59-.52 0-1.04.2-1.43.59L10.3 9.45l-7.72 7.72c-.78.78-.78 2.05 0 2.83L4 21.41c.39.39.9.59 1.41.59.51 0 1.02-.2 1.41-.59l7.78-7.78 2.81-2.81c.8-.78.8-2.07 0-2.86zM5.41 20L4 18.59l7.72-7.72 1.47 1.35L5.41 20z\"/>\n",
              "  </svg>\n",
              "      </button>\n",
              "      \n",
              "  <style>\n",
              "    .colab-df-container {\n",
              "      display:flex;\n",
              "      flex-wrap:wrap;\n",
              "      gap: 12px;\n",
              "    }\n",
              "\n",
              "    .colab-df-convert {\n",
              "      background-color: #E8F0FE;\n",
              "      border: none;\n",
              "      border-radius: 50%;\n",
              "      cursor: pointer;\n",
              "      display: none;\n",
              "      fill: #1967D2;\n",
              "      height: 32px;\n",
              "      padding: 0 0 0 0;\n",
              "      width: 32px;\n",
              "    }\n",
              "\n",
              "    .colab-df-convert:hover {\n",
              "      background-color: #E2EBFA;\n",
              "      box-shadow: 0px 1px 2px rgba(60, 64, 67, 0.3), 0px 1px 3px 1px rgba(60, 64, 67, 0.15);\n",
              "      fill: #174EA6;\n",
              "    }\n",
              "\n",
              "    [theme=dark] .colab-df-convert {\n",
              "      background-color: #3B4455;\n",
              "      fill: #D2E3FC;\n",
              "    }\n",
              "\n",
              "    [theme=dark] .colab-df-convert:hover {\n",
              "      background-color: #434B5C;\n",
              "      box-shadow: 0px 1px 3px 1px rgba(0, 0, 0, 0.15);\n",
              "      filter: drop-shadow(0px 1px 2px rgba(0, 0, 0, 0.3));\n",
              "      fill: #FFFFFF;\n",
              "    }\n",
              "  </style>\n",
              "\n",
              "      <script>\n",
              "        const buttonEl =\n",
              "          document.querySelector('#df-42ff4612-8f8e-4fed-9c34-1bc1be524f31 button.colab-df-convert');\n",
              "        buttonEl.style.display =\n",
              "          google.colab.kernel.accessAllowed ? 'block' : 'none';\n",
              "\n",
              "        async function convertToInteractive(key) {\n",
              "          const element = document.querySelector('#df-42ff4612-8f8e-4fed-9c34-1bc1be524f31');\n",
              "          const dataTable =\n",
              "            await google.colab.kernel.invokeFunction('convertToInteractive',\n",
              "                                                     [key], {});\n",
              "          if (!dataTable) return;\n",
              "\n",
              "          const docLinkHtml = 'Like what you see? Visit the ' +\n",
              "            '<a target=\"_blank\" href=https://colab.research.google.com/notebooks/data_table.ipynb>data table notebook</a>'\n",
              "            + ' to learn more about interactive tables.';\n",
              "          element.innerHTML = '';\n",
              "          dataTable['output_type'] = 'display_data';\n",
              "          await google.colab.output.renderOutput(dataTable, element);\n",
              "          const docLink = document.createElement('div');\n",
              "          docLink.innerHTML = docLinkHtml;\n",
              "          element.appendChild(docLink);\n",
              "        }\n",
              "      </script>\n",
              "    </div>\n",
              "  </div>\n",
              "  "
            ]
          },
          "metadata": {},
          "execution_count": 3
        }
      ]
    },
    {
      "cell_type": "code",
      "source": [
        "dados = dados.drop('name',axis=1)"
      ],
      "metadata": {
        "id": "1TXK0N1A75PK"
      },
      "execution_count": 4,
      "outputs": []
    },
    {
      "cell_type": "code",
      "source": [
        "dados.head()"
      ],
      "metadata": {
        "colab": {
          "base_uri": "https://localhost:8080/",
          "height": 206
        },
        "id": "gJoc5ztP77Mu",
        "outputId": "4ac2550e-faf5-4020-9a7e-a82bb3baec9b"
      },
      "execution_count": 5,
      "outputs": [
        {
          "output_type": "execute_result",
          "data": {
            "text/plain": [
              "    mpg  cylinders  displacement horsepower  weight  acceleration  year  \\\n",
              "0  18.0          8         307.0        130    3504          12.0    70   \n",
              "1  15.0          8         350.0        165    3693          11.5    70   \n",
              "2  18.0          8         318.0        150    3436          11.0    70   \n",
              "3  16.0          8         304.0        150    3433          12.0    70   \n",
              "4  17.0          8         302.0        140    3449          10.5    70   \n",
              "\n",
              "   origin  \n",
              "0       1  \n",
              "1       1  \n",
              "2       1  \n",
              "3       1  \n",
              "4       1  "
            ],
            "text/html": [
              "\n",
              "  <div id=\"df-0d15b2c8-cbc2-4792-a241-1ddf05de0c34\">\n",
              "    <div class=\"colab-df-container\">\n",
              "      <div>\n",
              "<style scoped>\n",
              "    .dataframe tbody tr th:only-of-type {\n",
              "        vertical-align: middle;\n",
              "    }\n",
              "\n",
              "    .dataframe tbody tr th {\n",
              "        vertical-align: top;\n",
              "    }\n",
              "\n",
              "    .dataframe thead th {\n",
              "        text-align: right;\n",
              "    }\n",
              "</style>\n",
              "<table border=\"1\" class=\"dataframe\">\n",
              "  <thead>\n",
              "    <tr style=\"text-align: right;\">\n",
              "      <th></th>\n",
              "      <th>mpg</th>\n",
              "      <th>cylinders</th>\n",
              "      <th>displacement</th>\n",
              "      <th>horsepower</th>\n",
              "      <th>weight</th>\n",
              "      <th>acceleration</th>\n",
              "      <th>year</th>\n",
              "      <th>origin</th>\n",
              "    </tr>\n",
              "  </thead>\n",
              "  <tbody>\n",
              "    <tr>\n",
              "      <th>0</th>\n",
              "      <td>18.0</td>\n",
              "      <td>8</td>\n",
              "      <td>307.0</td>\n",
              "      <td>130</td>\n",
              "      <td>3504</td>\n",
              "      <td>12.0</td>\n",
              "      <td>70</td>\n",
              "      <td>1</td>\n",
              "    </tr>\n",
              "    <tr>\n",
              "      <th>1</th>\n",
              "      <td>15.0</td>\n",
              "      <td>8</td>\n",
              "      <td>350.0</td>\n",
              "      <td>165</td>\n",
              "      <td>3693</td>\n",
              "      <td>11.5</td>\n",
              "      <td>70</td>\n",
              "      <td>1</td>\n",
              "    </tr>\n",
              "    <tr>\n",
              "      <th>2</th>\n",
              "      <td>18.0</td>\n",
              "      <td>8</td>\n",
              "      <td>318.0</td>\n",
              "      <td>150</td>\n",
              "      <td>3436</td>\n",
              "      <td>11.0</td>\n",
              "      <td>70</td>\n",
              "      <td>1</td>\n",
              "    </tr>\n",
              "    <tr>\n",
              "      <th>3</th>\n",
              "      <td>16.0</td>\n",
              "      <td>8</td>\n",
              "      <td>304.0</td>\n",
              "      <td>150</td>\n",
              "      <td>3433</td>\n",
              "      <td>12.0</td>\n",
              "      <td>70</td>\n",
              "      <td>1</td>\n",
              "    </tr>\n",
              "    <tr>\n",
              "      <th>4</th>\n",
              "      <td>17.0</td>\n",
              "      <td>8</td>\n",
              "      <td>302.0</td>\n",
              "      <td>140</td>\n",
              "      <td>3449</td>\n",
              "      <td>10.5</td>\n",
              "      <td>70</td>\n",
              "      <td>1</td>\n",
              "    </tr>\n",
              "  </tbody>\n",
              "</table>\n",
              "</div>\n",
              "      <button class=\"colab-df-convert\" onclick=\"convertToInteractive('df-0d15b2c8-cbc2-4792-a241-1ddf05de0c34')\"\n",
              "              title=\"Convert this dataframe to an interactive table.\"\n",
              "              style=\"display:none;\">\n",
              "        \n",
              "  <svg xmlns=\"http://www.w3.org/2000/svg\" height=\"24px\"viewBox=\"0 0 24 24\"\n",
              "       width=\"24px\">\n",
              "    <path d=\"M0 0h24v24H0V0z\" fill=\"none\"/>\n",
              "    <path d=\"M18.56 5.44l.94 2.06.94-2.06 2.06-.94-2.06-.94-.94-2.06-.94 2.06-2.06.94zm-11 1L8.5 8.5l.94-2.06 2.06-.94-2.06-.94L8.5 2.5l-.94 2.06-2.06.94zm10 10l.94 2.06.94-2.06 2.06-.94-2.06-.94-.94-2.06-.94 2.06-2.06.94z\"/><path d=\"M17.41 7.96l-1.37-1.37c-.4-.4-.92-.59-1.43-.59-.52 0-1.04.2-1.43.59L10.3 9.45l-7.72 7.72c-.78.78-.78 2.05 0 2.83L4 21.41c.39.39.9.59 1.41.59.51 0 1.02-.2 1.41-.59l7.78-7.78 2.81-2.81c.8-.78.8-2.07 0-2.86zM5.41 20L4 18.59l7.72-7.72 1.47 1.35L5.41 20z\"/>\n",
              "  </svg>\n",
              "      </button>\n",
              "      \n",
              "  <style>\n",
              "    .colab-df-container {\n",
              "      display:flex;\n",
              "      flex-wrap:wrap;\n",
              "      gap: 12px;\n",
              "    }\n",
              "\n",
              "    .colab-df-convert {\n",
              "      background-color: #E8F0FE;\n",
              "      border: none;\n",
              "      border-radius: 50%;\n",
              "      cursor: pointer;\n",
              "      display: none;\n",
              "      fill: #1967D2;\n",
              "      height: 32px;\n",
              "      padding: 0 0 0 0;\n",
              "      width: 32px;\n",
              "    }\n",
              "\n",
              "    .colab-df-convert:hover {\n",
              "      background-color: #E2EBFA;\n",
              "      box-shadow: 0px 1px 2px rgba(60, 64, 67, 0.3), 0px 1px 3px 1px rgba(60, 64, 67, 0.15);\n",
              "      fill: #174EA6;\n",
              "    }\n",
              "\n",
              "    [theme=dark] .colab-df-convert {\n",
              "      background-color: #3B4455;\n",
              "      fill: #D2E3FC;\n",
              "    }\n",
              "\n",
              "    [theme=dark] .colab-df-convert:hover {\n",
              "      background-color: #434B5C;\n",
              "      box-shadow: 0px 1px 3px 1px rgba(0, 0, 0, 0.15);\n",
              "      filter: drop-shadow(0px 1px 2px rgba(0, 0, 0, 0.3));\n",
              "      fill: #FFFFFF;\n",
              "    }\n",
              "  </style>\n",
              "\n",
              "      <script>\n",
              "        const buttonEl =\n",
              "          document.querySelector('#df-0d15b2c8-cbc2-4792-a241-1ddf05de0c34 button.colab-df-convert');\n",
              "        buttonEl.style.display =\n",
              "          google.colab.kernel.accessAllowed ? 'block' : 'none';\n",
              "\n",
              "        async function convertToInteractive(key) {\n",
              "          const element = document.querySelector('#df-0d15b2c8-cbc2-4792-a241-1ddf05de0c34');\n",
              "          const dataTable =\n",
              "            await google.colab.kernel.invokeFunction('convertToInteractive',\n",
              "                                                     [key], {});\n",
              "          if (!dataTable) return;\n",
              "\n",
              "          const docLinkHtml = 'Like what you see? Visit the ' +\n",
              "            '<a target=\"_blank\" href=https://colab.research.google.com/notebooks/data_table.ipynb>data table notebook</a>'\n",
              "            + ' to learn more about interactive tables.';\n",
              "          element.innerHTML = '';\n",
              "          dataTable['output_type'] = 'display_data';\n",
              "          await google.colab.output.renderOutput(dataTable, element);\n",
              "          const docLink = document.createElement('div');\n",
              "          docLink.innerHTML = docLinkHtml;\n",
              "          element.appendChild(docLink);\n",
              "        }\n",
              "      </script>\n",
              "    </div>\n",
              "  </div>\n",
              "  "
            ]
          },
          "metadata": {},
          "execution_count": 5
        }
      ]
    },
    {
      "cell_type": "code",
      "source": [
        "dados.info()"
      ],
      "metadata": {
        "colab": {
          "base_uri": "https://localhost:8080/"
        },
        "id": "-WC8Scwf79X1",
        "outputId": "14bf0289-550b-4e7e-c244-391eff954d14"
      },
      "execution_count": 6,
      "outputs": [
        {
          "output_type": "stream",
          "name": "stdout",
          "text": [
            "<class 'pandas.core.frame.DataFrame'>\n",
            "RangeIndex: 397 entries, 0 to 396\n",
            "Data columns (total 8 columns):\n",
            " #   Column        Non-Null Count  Dtype  \n",
            "---  ------        --------------  -----  \n",
            " 0   mpg           397 non-null    float64\n",
            " 1   cylinders     397 non-null    int64  \n",
            " 2   displacement  397 non-null    float64\n",
            " 3   horsepower    397 non-null    object \n",
            " 4   weight        397 non-null    int64  \n",
            " 5   acceleration  397 non-null    float64\n",
            " 6   year          397 non-null    int64  \n",
            " 7   origin        397 non-null    int64  \n",
            "dtypes: float64(3), int64(4), object(1)\n",
            "memory usage: 24.9+ KB\n"
          ]
        }
      ]
    },
    {
      "cell_type": "code",
      "source": [
        "dados['horsepower'] = pd.to_numeric(dados['horsepower'], errors='coerce')"
      ],
      "metadata": {
        "id": "xj-YNg3O8ABY"
      },
      "execution_count": 7,
      "outputs": []
    },
    {
      "cell_type": "code",
      "source": [
        "dados.info()"
      ],
      "metadata": {
        "colab": {
          "base_uri": "https://localhost:8080/"
        },
        "id": "OaEv05B78B9L",
        "outputId": "805164dc-0cd5-4124-f117-bf687cdfba40"
      },
      "execution_count": 8,
      "outputs": [
        {
          "output_type": "stream",
          "name": "stdout",
          "text": [
            "<class 'pandas.core.frame.DataFrame'>\n",
            "RangeIndex: 397 entries, 0 to 396\n",
            "Data columns (total 8 columns):\n",
            " #   Column        Non-Null Count  Dtype  \n",
            "---  ------        --------------  -----  \n",
            " 0   mpg           397 non-null    float64\n",
            " 1   cylinders     397 non-null    int64  \n",
            " 2   displacement  397 non-null    float64\n",
            " 3   horsepower    392 non-null    float64\n",
            " 4   weight        397 non-null    int64  \n",
            " 5   acceleration  397 non-null    float64\n",
            " 6   year          397 non-null    int64  \n",
            " 7   origin        397 non-null    int64  \n",
            "dtypes: float64(4), int64(4)\n",
            "memory usage: 24.9 KB\n"
          ]
        }
      ]
    },
    {
      "cell_type": "code",
      "source": [
        "print(dados.isnull().sum())"
      ],
      "metadata": {
        "colab": {
          "base_uri": "https://localhost:8080/"
        },
        "id": "POrBVvQo8EoB",
        "outputId": "4e47533d-6c57-44f0-f887-6f08a29f2202"
      },
      "execution_count": 9,
      "outputs": [
        {
          "output_type": "stream",
          "name": "stdout",
          "text": [
            "mpg             0\n",
            "cylinders       0\n",
            "displacement    0\n",
            "horsepower      5\n",
            "weight          0\n",
            "acceleration    0\n",
            "year            0\n",
            "origin          0\n",
            "dtype: int64\n"
          ]
        }
      ]
    },
    {
      "cell_type": "code",
      "source": [],
      "metadata": {
        "id": "zkGZgl3_8F4R"
      },
      "execution_count": null,
      "outputs": []
    },
    {
      "cell_type": "code",
      "source": [
        "dados = dados.dropna()"
      ],
      "metadata": {
        "id": "Pom3sMVy8Gt6"
      },
      "execution_count": 10,
      "outputs": []
    },
    {
      "cell_type": "code",
      "source": [
        "print(dados.isnull().sum())"
      ],
      "metadata": {
        "colab": {
          "base_uri": "https://localhost:8080/"
        },
        "id": "Dv3g6czi8JQx",
        "outputId": "7a5e2efa-49bf-4751-a960-e057238f151a"
      },
      "execution_count": 11,
      "outputs": [
        {
          "output_type": "stream",
          "name": "stdout",
          "text": [
            "mpg             0\n",
            "cylinders       0\n",
            "displacement    0\n",
            "horsepower      0\n",
            "weight          0\n",
            "acceleration    0\n",
            "year            0\n",
            "origin          0\n",
            "dtype: int64\n"
          ]
        }
      ]
    },
    {
      "cell_type": "code",
      "source": [
        "dados.max()"
      ],
      "metadata": {
        "colab": {
          "base_uri": "https://localhost:8080/"
        },
        "id": "aZPQOm8v8LRZ",
        "outputId": "14bd43c3-07fe-44a3-e351-e6e0bd21d9bd"
      },
      "execution_count": 12,
      "outputs": [
        {
          "output_type": "execute_result",
          "data": {
            "text/plain": [
              "mpg               46.6\n",
              "cylinders          8.0\n",
              "displacement     455.0\n",
              "horsepower       230.0\n",
              "weight          5140.0\n",
              "acceleration      24.8\n",
              "year              82.0\n",
              "origin             3.0\n",
              "dtype: float64"
            ]
          },
          "metadata": {},
          "execution_count": 12
        }
      ]
    },
    {
      "cell_type": "code",
      "source": [
        "dados.min()"
      ],
      "metadata": {
        "colab": {
          "base_uri": "https://localhost:8080/"
        },
        "id": "23Wsfr2U8NDH",
        "outputId": "1ff7b77c-6cdc-4e7d-cb5a-d0566174edc2"
      },
      "execution_count": 13,
      "outputs": [
        {
          "output_type": "execute_result",
          "data": {
            "text/plain": [
              "mpg                9.0\n",
              "cylinders          3.0\n",
              "displacement      68.0\n",
              "horsepower        46.0\n",
              "weight          1613.0\n",
              "acceleration       8.0\n",
              "year              70.0\n",
              "origin             1.0\n",
              "dtype: float64"
            ]
          },
          "metadata": {},
          "execution_count": 13
        }
      ]
    },
    {
      "cell_type": "code",
      "source": [
        "X = dados.drop('mpg',axis=1).values\n",
        "Y = dados['mpg'].values"
      ],
      "metadata": {
        "id": "xKlKs-HC8Zx8"
      },
      "execution_count": 14,
      "outputs": []
    },
    {
      "cell_type": "code",
      "source": [
        "fig, ax = plt.subplots(2, 3)\n",
        "ax[0,0].scatter(X[:,0],Y);\n",
        "ax[0,0].set_xlabel('cylinders');\n",
        "ax[0,0].set_ylabel('mpg');\n",
        "\n",
        "ax[0,1].scatter(X[:,1],Y);\n",
        "ax[0,1].set_xlabel('displacement');\n",
        "ax[0,1].set_ylabel('mpg');\n",
        "\n",
        "ax[0,2].scatter(X[:,2],Y);\n",
        "ax[0,2].set_xlabel('horsepower');\n",
        "ax[0,2].set_ylabel('mpg');\n",
        "\n",
        "ax[1,0].scatter(X[:,2],Y);\n",
        "ax[1,0].set_xlabel('weight');\n",
        "ax[1,0].set_ylabel('mpg');\n",
        "\n",
        "ax[1,1].scatter(X[:,2],Y);\n",
        "ax[1,1].set_xlabel('acceleration');\n",
        "ax[1,1].set_ylabel('mpg');\n",
        "\n",
        "ax[1,2].scatter(X[:,2],Y);\n",
        "ax[1,2].set_xlabel('year');\n",
        "ax[1,2].set_ylabel('mpg');\n",
        "\n",
        "plt.tight_layout();"
      ],
      "metadata": {
        "colab": {
          "base_uri": "https://localhost:8080/",
          "height": 297
        },
        "id": "Pr3vo-nV8csx",
        "outputId": "c9c1af2a-6450-4821-fbad-658f02afd0d8"
      },
      "execution_count": 15,
      "outputs": [
        {
          "output_type": "display_data",
          "data": {
            "text/plain": [
              "<Figure size 432x288 with 6 Axes>"
            ],
            "image/png": "[encoded data removed]"
          },
          "metadata": {
            "needs_background": "light"
          }
        }
      ]
    },
    {
      "cell_type": "code",
      "source": [
        "#Aplicando regressão de Lasso\n",
        "from sklearn.linear_model import Lasso"
      ],
      "metadata": {
        "id": "WfWX0W-H8gCB"
      },
      "execution_count": 16,
      "outputs": []
    },
    {
      "cell_type": "code",
      "source": [
        "#Aplicando inicialmente com coeficiente alpha=0.5\n",
        "modelo1 = Lasso(alpha=0.5)\n",
        "modelo1.fit(X, Y)"
      ],
      "metadata": {
        "colab": {
          "base_uri": "https://localhost:8080/"
        },
        "id": "jLhnJcs98kRZ",
        "outputId": "e8b9d880-39b3-463e-f16e-168d201647c4"
      },
      "execution_count": 17,
      "outputs": [
        {
          "output_type": "execute_result",
          "data": {
            "text/plain": [
              "Lasso(alpha=0.5)"
            ]
          },
          "metadata": {},
          "execution_count": 17
        }
      ]
    },
    {
      "cell_type": "code",
      "source": [
        "score = modelo1.score(X, Y)"
      ],
      "metadata": {
        "id": "h3xjeoYe8o-u"
      },
      "execution_count": 18,
      "outputs": []
    },
    {
      "cell_type": "code",
      "source": [
        "score"
      ],
      "metadata": {
        "colab": {
          "base_uri": "https://localhost:8080/"
        },
        "id": "9SpAFDHI8rAB",
        "outputId": "13f9c40b-aac4-4ae8-9a77-1468943e3acb"
      },
      "execution_count": 19,
      "outputs": [
        {
          "output_type": "execute_result",
          "data": {
            "text/plain": [
              "0.8081267287896751"
            ]
          },
          "metadata": {},
          "execution_count": 19
        }
      ]
    },
    {
      "cell_type": "code",
      "source": [
        "#Determinando o score com diferentes lambdas\n",
        "lambdas = [0.0001,0.001, 0.01, 0.1, 0.5, 1]"
      ],
      "metadata": {
        "id": "411OHRGk8uOA"
      },
      "execution_count": 21,
      "outputs": []
    },
    {
      "cell_type": "code",
      "source": [
        "scores = []"
      ],
      "metadata": {
        "id": "OCDLgHxm8xSg"
      },
      "execution_count": 22,
      "outputs": []
    },
    {
      "cell_type": "code",
      "source": [
        "for i in range(len(lambdas)):\n",
        "    modelo = Lasso(alpha=lambdas[i])\n",
        "    modelo.fit(X, Y)\n",
        "    score = modelo.score(X, Y)\n",
        "    scores.append(score)"
      ],
      "metadata": {
        "id": "dHH6m6X081lC"
      },
      "execution_count": 23,
      "outputs": []
    },
    {
      "cell_type": "code",
      "source": [
        "print(scores)"
      ],
      "metadata": {
        "colab": {
          "base_uri": "https://localhost:8080/"
        },
        "id": "1fpEa3la9HMz",
        "outputId": "d94745df-769b-438c-8d44-1a47f942b4f8"
      },
      "execution_count": 25,
      "outputs": [
        {
          "output_type": "stream",
          "name": "stdout",
          "text": [
            "[0.8214780752331419, 0.821477950469025, 0.8214655764445802, 0.8202315165369876, 0.8081267287896751, 0.8069474979241384]\n"
          ]
        }
      ]
    },
    {
      "cell_type": "code",
      "source": [
        "plt.scatter(lambdas,scores);\n",
        "plt.xlabel('Lambda');\n",
        "plt.ylabel('Score');\n",
        "plt.xscale('log');\n",
        "plt.xlim([1e-5,10]);"
      ],
      "metadata": {
        "colab": {
          "base_uri": "https://localhost:8080/",
          "height": 284
        },
        "id": "29re2WA085E8",
        "outputId": "de856aed-faac-4963-8ee5-f50808dd5c5f"
      },
      "execution_count": 24,
      "outputs": [
        {
          "output_type": "display_data",
          "data": {
            "text/plain": [
              "<Figure size 432x288 with 1 Axes>"
            ],
            "image/png": "[encoded data removed]"
          },
          "metadata": {
            "needs_background": "light"
          }
        }
      ]
    },
    {
      "cell_type": "code",
      "source": [
        "modelo_final = Lasso(alpha=0.001)\n",
        "modelo_final.fit(X, Y)"
      ],
      "metadata": {
        "colab": {
          "base_uri": "https://localhost:8080/"
        },
        "id": "hIKxpXZC9UKM",
        "outputId": "b4540fdb-a99a-4b91-bcfa-f14699797086"
      },
      "execution_count": 27,
      "outputs": [
        {
          "output_type": "execute_result",
          "data": {
            "text/plain": [
              "Lasso(alpha=0.001)"
            ]
          },
          "metadata": {},
          "execution_count": 27
        }
      ]
    },
    {
      "cell_type": "code",
      "source": [
        "Y_pred = modelo_final.predict(X)"
      ],
      "metadata": {
        "id": "QwaNbQsW9Xr-"
      },
      "execution_count": 28,
      "outputs": []
    },
    {
      "cell_type": "code",
      "source": [
        "fig, ax = plt.subplots(2, 3)\n",
        "ax[0,0].scatter(X[:,0],Y);\n",
        "ax[0,0].scatter(X[:,0],Y_pred,color='red');\n",
        "ax[0,0].set_xlabel('cylinders');\n",
        "ax[0,0].set_ylabel('mpg');\n",
        "\n",
        "ax[0,1].scatter(X[:,1],Y);\n",
        "ax[0,1].scatter(X[:,1],Y_pred,color='red');\n",
        "ax[0,1].set_xlabel('displacement');\n",
        "ax[0,1].set_ylabel('mpg');\n",
        "\n",
        "ax[0,2].scatter(X[:,3],Y);\n",
        "ax[0,2].scatter(X[:,3],Y_pred,color='red');\n",
        "ax[0,2].set_xlabel('horsepower');\n",
        "ax[0,2].set_ylabel('mpg');\n",
        "\n",
        "ax[1,0].scatter(X[:,4],Y);\n",
        "ax[1,0].scatter(X[:,4],Y_pred,color='red');\n",
        "ax[1,0].set_xlabel('weight');\n",
        "ax[1,0].set_ylabel('mpg');\n",
        "\n",
        "ax[1,1].scatter(X[:,5],Y);\n",
        "ax[1,1].scatter(X[:,5],Y_pred,color='red');\n",
        "ax[1,1].set_xlabel('acceleration');\n",
        "ax[1,1].set_ylabel('mpg');\n",
        "\n",
        "ax[1,2].scatter(X[:,6],Y);\n",
        "ax[1,2].scatter(X[:,6],Y_pred,color='red');\n",
        "ax[1,2].set_xlabel('year');\n",
        "ax[1,2].set_ylabel('mpg');\n",
        "\n",
        "plt.tight_layout();"
      ],
      "metadata": {
        "colab": {
          "base_uri": "https://localhost:8080/",
          "height": 297
        },
        "id": "XCri590u9aGQ",
        "outputId": "d72f5976-34ab-43cc-8dc4-aaf70a8ae5ca"
      },
      "execution_count": 29,
      "outputs": [
        {
          "output_type": "display_data",
          "data": {
            "text/plain": [
              "<Figure size 432x288 with 6 Axes>"
            ],
            "image/png": "[encoded data removed]"
          },
          "metadata": {
            "needs_background": "light"
          }
        }
      ]
    },
    {
      "cell_type": "markdown",
      "source": [
        "# **REGRESSÃO LASSO E RIDGE - PARTE 3 (Definindo Regressão RIDGE)**\n",
        "\n",
        "Regressão Ridge:\n",
        "A regressão ridge realiza ‘regularização L2’, ou seja, adiciona um fator de soma de quadrados de coeficientes no objetivo de otimização. Assim, a regressão otimiza o seguinte:\n",
        "Objetivo = RSS + α * (soma do quadrado dos coeficientes)\n",
        "Aqui, α (alfa) é o parâmetro que equilibra a quantidade de ênfase dada à minimização de RSS versus minimização da soma do quadrado dos coeficientes. α pode assumir vários valores:\n",
        "α = 0:\n",
        "\n",
        "O objetivo passa a ser o mesmo da regressão linear simples.\n",
        "Obteremos os mesmos coeficientes da regressão linear simples.\n",
        "\n",
        "α = ∞:\n",
        "\n",
        "Os coeficientes serão zero. Por quê? Por causa do peso infinito no quadrado dos coeficientes, qualquer coisa menor que zero tornará o objetivo infinito.\n",
        "\n",
        "0 < α < ∞:\n",
        "\n",
        "A magnitude de α decidirá o peso dado às diferentes partes da objetiva e os coeficientes estarão em algum lugar entre 0 e um para regressão linear simples.\n"
      ],
      "metadata": {
        "id": "WCBn-eZV9nlf"
      }
    },
    {
      "cell_type": "markdown",
      "source": [
        "# **REGRESSÃO LASSO E RIDGE - PARTE 4 (Estimativas com Regressão RIDGE)**"
      ],
      "metadata": {
        "id": "7ZT_vmDw-1Mk"
      }
    },
    {
      "cell_type": "code",
      "source": [
        "import numpy as np\n",
        "import pandas as pd\n",
        "import matplotlib.pyplot as plt"
      ],
      "metadata": {
        "id": "rZ9Bqf-4-6xr"
      },
      "execution_count": 30,
      "outputs": []
    },
    {
      "cell_type": "code",
      "source": [
        "dados = pd.read_csv('/content/Regresao_Lasso_Ridge.csv')"
      ],
      "metadata": {
        "id": "pytzb0yC-_e_"
      },
      "execution_count": 31,
      "outputs": []
    },
    {
      "cell_type": "code",
      "source": [
        "dados.head()"
      ],
      "metadata": {
        "colab": {
          "base_uri": "https://localhost:8080/",
          "height": 206
        },
        "id": "tw_eFEToBcGT",
        "outputId": "e54c6712-0822-4b4d-9e9b-6b1d9339d0c2"
      },
      "execution_count": 32,
      "outputs": [
        {
          "output_type": "execute_result",
          "data": {
            "text/plain": [
              "    mpg  cylinders  displacement horsepower  weight  acceleration  year  \\\n",
              "0  18.0          8         307.0        130    3504          12.0    70   \n",
              "1  15.0          8         350.0        165    3693          11.5    70   \n",
              "2  18.0          8         318.0        150    3436          11.0    70   \n",
              "3  16.0          8         304.0        150    3433          12.0    70   \n",
              "4  17.0          8         302.0        140    3449          10.5    70   \n",
              "\n",
              "   origin                       name  \n",
              "0       1  chevrolet chevelle malibu  \n",
              "1       1          buick skylark 320  \n",
              "2       1         plymouth satellite  \n",
              "3       1              amc rebel sst  \n",
              "4       1                ford torino  "
            ],
            "text/html": [
              "\n",
              "  <div id=\"df-e2672d7f-757f-42c9-98e2-572a557fa76b\">\n",
              "    <div class=\"colab-df-container\">\n",
              "      <div>\n",
              "<style scoped>\n",
              "    .dataframe tbody tr th:only-of-type {\n",
              "        vertical-align: middle;\n",
              "    }\n",
              "\n",
              "    .dataframe tbody tr th {\n",
              "        vertical-align: top;\n",
              "    }\n",
              "\n",
              "    .dataframe thead th {\n",
              "        text-align: right;\n",
              "    }\n",
              "</style>\n",
              "<table border=\"1\" class=\"dataframe\">\n",
              "  <thead>\n",
              "    <tr style=\"text-align: right;\">\n",
              "      <th></th>\n",
              "      <th>mpg</th>\n",
              "      <th>cylinders</th>\n",
              "      <th>displacement</th>\n",
              "      <th>horsepower</th>\n",
              "      <th>weight</th>\n",
              "      <th>acceleration</th>\n",
              "      <th>year</th>\n",
              "      <th>origin</th>\n",
              "      <th>name</th>\n",
              "    </tr>\n",
              "  </thead>\n",
              "  <tbody>\n",
              "    <tr>\n",
              "      <th>0</th>\n",
              "      <td>18.0</td>\n",
              "      <td>8</td>\n",
              "      <td>307.0</td>\n",
              "      <td>130</td>\n",
              "      <td>3504</td>\n",
              "      <td>12.0</td>\n",
              "      <td>70</td>\n",
              "      <td>1</td>\n",
              "      <td>chevrolet chevelle malibu</td>\n",
              "    </tr>\n",
              "    <tr>\n",
              "      <th>1</th>\n",
              "      <td>15.0</td>\n",
              "      <td>8</td>\n",
              "      <td>350.0</td>\n",
              "      <td>165</td>\n",
              "      <td>3693</td>\n",
              "      <td>11.5</td>\n",
              "      <td>70</td>\n",
              "      <td>1</td>\n",
              "      <td>buick skylark 320</td>\n",
              "    </tr>\n",
              "    <tr>\n",
              "      <th>2</th>\n",
              "      <td>18.0</td>\n",
              "      <td>8</td>\n",
              "      <td>318.0</td>\n",
              "      <td>150</td>\n",
              "      <td>3436</td>\n",
              "      <td>11.0</td>\n",
              "      <td>70</td>\n",
              "      <td>1</td>\n",
              "      <td>plymouth satellite</td>\n",
              "    </tr>\n",
              "    <tr>\n",
              "      <th>3</th>\n",
              "      <td>16.0</td>\n",
              "      <td>8</td>\n",
              "      <td>304.0</td>\n",
              "      <td>150</td>\n",
              "      <td>3433</td>\n",
              "      <td>12.0</td>\n",
              "      <td>70</td>\n",
              "      <td>1</td>\n",
              "      <td>amc rebel sst</td>\n",
              "    </tr>\n",
              "    <tr>\n",
              "      <th>4</th>\n",
              "      <td>17.0</td>\n",
              "      <td>8</td>\n",
              "      <td>302.0</td>\n",
              "      <td>140</td>\n",
              "      <td>3449</td>\n",
              "      <td>10.5</td>\n",
              "      <td>70</td>\n",
              "      <td>1</td>\n",
              "      <td>ford torino</td>\n",
              "    </tr>\n",
              "  </tbody>\n",
              "</table>\n",
              "</div>\n",
              "      <button class=\"colab-df-convert\" onclick=\"convertToInteractive('df-e2672d7f-757f-42c9-98e2-572a557fa76b')\"\n",
              "              title=\"Convert this dataframe to an interactive table.\"\n",
              "              style=\"display:none;\">\n",
              "        \n",
              "  <svg xmlns=\"http://www.w3.org/2000/svg\" height=\"24px\"viewBox=\"0 0 24 24\"\n",
              "       width=\"24px\">\n",
              "    <path d=\"M0 0h24v24H0V0z\" fill=\"none\"/>\n",
              "    <path d=\"M18.56 5.44l.94 2.06.94-2.06 2.06-.94-2.06-.94-.94-2.06-.94 2.06-2.06.94zm-11 1L8.5 8.5l.94-2.06 2.06-.94-2.06-.94L8.5 2.5l-.94 2.06-2.06.94zm10 10l.94 2.06.94-2.06 2.06-.94-2.06-.94-.94-2.06-.94 2.06-2.06.94z\"/><path d=\"M17.41 7.96l-1.37-1.37c-.4-.4-.92-.59-1.43-.59-.52 0-1.04.2-1.43.59L10.3 9.45l-7.72 7.72c-.78.78-.78 2.05 0 2.83L4 21.41c.39.39.9.59 1.41.59.51 0 1.02-.2 1.41-.59l7.78-7.78 2.81-2.81c.8-.78.8-2.07 0-2.86zM5.41 20L4 18.59l7.72-7.72 1.47 1.35L5.41 20z\"/>\n",
              "  </svg>\n",
              "      </button>\n",
              "      \n",
              "  <style>\n",
              "    .colab-df-container {\n",
              "      display:flex;\n",
              "      flex-wrap:wrap;\n",
              "      gap: 12px;\n",
              "    }\n",
              "\n",
              "    .colab-df-convert {\n",
              "      background-color: #E8F0FE;\n",
              "      border: none;\n",
              "      border-radius: 50%;\n",
              "      cursor: pointer;\n",
              "      display: none;\n",
              "      fill: #1967D2;\n",
              "      height: 32px;\n",
              "      padding: 0 0 0 0;\n",
              "      width: 32px;\n",
              "    }\n",
              "\n",
              "    .colab-df-convert:hover {\n",
              "      background-color: #E2EBFA;\n",
              "      box-shadow: 0px 1px 2px rgba(60, 64, 67, 0.3), 0px 1px 3px 1px rgba(60, 64, 67, 0.15);\n",
              "      fill: #174EA6;\n",
              "    }\n",
              "\n",
              "    [theme=dark] .colab-df-convert {\n",
              "      background-color: #3B4455;\n",
              "      fill: #D2E3FC;\n",
              "    }\n",
              "\n",
              "    [theme=dark] .colab-df-convert:hover {\n",
              "      background-color: #434B5C;\n",
              "      box-shadow: 0px 1px 3px 1px rgba(0, 0, 0, 0.15);\n",
              "      filter: drop-shadow(0px 1px 2px rgba(0, 0, 0, 0.3));\n",
              "      fill: #FFFFFF;\n",
              "    }\n",
              "  </style>\n",
              "\n",
              "      <script>\n",
              "        const buttonEl =\n",
              "          document.querySelector('#df-e2672d7f-757f-42c9-98e2-572a557fa76b button.colab-df-convert');\n",
              "        buttonEl.style.display =\n",
              "          google.colab.kernel.accessAllowed ? 'block' : 'none';\n",
              "\n",
              "        async function convertToInteractive(key) {\n",
              "          const element = document.querySelector('#df-e2672d7f-757f-42c9-98e2-572a557fa76b');\n",
              "          const dataTable =\n",
              "            await google.colab.kernel.invokeFunction('convertToInteractive',\n",
              "                                                     [key], {});\n",
              "          if (!dataTable) return;\n",
              "\n",
              "          const docLinkHtml = 'Like what you see? Visit the ' +\n",
              "            '<a target=\"_blank\" href=https://colab.research.google.com/notebooks/data_table.ipynb>data table notebook</a>'\n",
              "            + ' to learn more about interactive tables.';\n",
              "          element.innerHTML = '';\n",
              "          dataTable['output_type'] = 'display_data';\n",
              "          await google.colab.output.renderOutput(dataTable, element);\n",
              "          const docLink = document.createElement('div');\n",
              "          docLink.innerHTML = docLinkHtml;\n",
              "          element.appendChild(docLink);\n",
              "        }\n",
              "      </script>\n",
              "    </div>\n",
              "  </div>\n",
              "  "
            ]
          },
          "metadata": {},
          "execution_count": 32
        }
      ]
    },
    {
      "cell_type": "code",
      "source": [
        "#Coluna name possue apenas os nomes dos carros e por este motivo pode ser removida\n",
        "dados = dados.drop('name',axis=1)"
      ],
      "metadata": {
        "id": "k067iQyRBd_g"
      },
      "execution_count": 33,
      "outputs": []
    },
    {
      "cell_type": "code",
      "source": [
        "dados.info()"
      ],
      "metadata": {
        "colab": {
          "base_uri": "https://localhost:8080/"
        },
        "id": "6vWG7byYBkMW",
        "outputId": "ca45c9b5-572b-4584-ff91-728b7b2d4681"
      },
      "execution_count": 34,
      "outputs": [
        {
          "output_type": "stream",
          "name": "stdout",
          "text": [
            "<class 'pandas.core.frame.DataFrame'>\n",
            "RangeIndex: 397 entries, 0 to 396\n",
            "Data columns (total 8 columns):\n",
            " #   Column        Non-Null Count  Dtype  \n",
            "---  ------        --------------  -----  \n",
            " 0   mpg           397 non-null    float64\n",
            " 1   cylinders     397 non-null    int64  \n",
            " 2   displacement  397 non-null    float64\n",
            " 3   horsepower    397 non-null    object \n",
            " 4   weight        397 non-null    int64  \n",
            " 5   acceleration  397 non-null    float64\n",
            " 6   year          397 non-null    int64  \n",
            " 7   origin        397 non-null    int64  \n",
            "dtypes: float64(3), int64(4), object(1)\n",
            "memory usage: 24.9+ KB\n"
          ]
        }
      ]
    },
    {
      "cell_type": "code",
      "source": [
        "#Coluna horsepower está como tipo objeto e precisa ser convertida para outra classe\n",
        "dados['horsepower'] = pd.to_numeric(dados['horsepower'], errors='coerce')"
      ],
      "metadata": {
        "id": "_RwfDlSeBoJZ"
      },
      "execution_count": 35,
      "outputs": []
    },
    {
      "cell_type": "code",
      "source": [
        "dados.info()"
      ],
      "metadata": {
        "colab": {
          "base_uri": "https://localhost:8080/"
        },
        "id": "gTjmkwmoBuc4",
        "outputId": "894ee253-d67d-4926-cf51-797ad9c25c25"
      },
      "execution_count": 36,
      "outputs": [
        {
          "output_type": "stream",
          "name": "stdout",
          "text": [
            "<class 'pandas.core.frame.DataFrame'>\n",
            "RangeIndex: 397 entries, 0 to 396\n",
            "Data columns (total 8 columns):\n",
            " #   Column        Non-Null Count  Dtype  \n",
            "---  ------        --------------  -----  \n",
            " 0   mpg           397 non-null    float64\n",
            " 1   cylinders     397 non-null    int64  \n",
            " 2   displacement  397 non-null    float64\n",
            " 3   horsepower    392 non-null    float64\n",
            " 4   weight        397 non-null    int64  \n",
            " 5   acceleration  397 non-null    float64\n",
            " 6   year          397 non-null    int64  \n",
            " 7   origin        397 non-null    int64  \n",
            "dtypes: float64(4), int64(4)\n",
            "memory usage: 24.9 KB\n"
          ]
        }
      ]
    },
    {
      "cell_type": "code",
      "source": [
        "print(dados.isnull().sum())"
      ],
      "metadata": {
        "colab": {
          "base_uri": "https://localhost:8080/"
        },
        "id": "R0SiBOL_Byu-",
        "outputId": "74212cfd-5a9d-4df3-c9bb-5a3e667b42c3"
      },
      "execution_count": 37,
      "outputs": [
        {
          "output_type": "stream",
          "name": "stdout",
          "text": [
            "mpg             0\n",
            "cylinders       0\n",
            "displacement    0\n",
            "horsepower      5\n",
            "weight          0\n",
            "acceleration    0\n",
            "year            0\n",
            "origin          0\n",
            "dtype: int64\n"
          ]
        }
      ]
    },
    {
      "cell_type": "code",
      "source": [
        "dados = dados.dropna()"
      ],
      "metadata": {
        "id": "EWSKSp2ZB0E-"
      },
      "execution_count": 38,
      "outputs": []
    },
    {
      "cell_type": "code",
      "source": [
        "from sklearn.linear_model import Ridge"
      ],
      "metadata": {
        "id": "uXAp8op-CF_j"
      },
      "execution_count": 42,
      "outputs": []
    },
    {
      "cell_type": "code",
      "source": [
        "modelo1 = Ridge(alpha=0.5)\n",
        "modelo1.fit(X, Y)"
      ],
      "metadata": {
        "colab": {
          "base_uri": "https://localhost:8080/"
        },
        "id": "WsZ7JZEUCH-i",
        "outputId": "83b2acaf-d6b2-4177-94b6-4d4f4861718e"
      },
      "execution_count": 43,
      "outputs": [
        {
          "output_type": "execute_result",
          "data": {
            "text/plain": [
              "Ridge(alpha=0.5)"
            ]
          },
          "metadata": {},
          "execution_count": 43
        }
      ]
    },
    {
      "cell_type": "code",
      "source": [
        "score = modelo1.score(X, Y)"
      ],
      "metadata": {
        "id": "ZwPTj3QgCJE3"
      },
      "execution_count": 44,
      "outputs": []
    },
    {
      "cell_type": "code",
      "source": [
        "score"
      ],
      "metadata": {
        "colab": {
          "base_uri": "https://localhost:8080/"
        },
        "id": "OiC36lTtCLtE",
        "outputId": "d50a8ed5-b403-4b1c-f7ab-bf6b035a603e"
      },
      "execution_count": 45,
      "outputs": [
        {
          "output_type": "execute_result",
          "data": {
            "text/plain": [
              "0.8214778919054474"
            ]
          },
          "metadata": {},
          "execution_count": 45
        }
      ]
    },
    {
      "cell_type": "code",
      "source": [
        "lambdas = [0.00001,0.0001,0.001, 0.01, 0.1, 0.5, 1, 2, 5]"
      ],
      "metadata": {
        "id": "jKIUQQs9CNLO"
      },
      "execution_count": 46,
      "outputs": []
    },
    {
      "cell_type": "code",
      "source": [
        "scores = []"
      ],
      "metadata": {
        "id": "MvtcezDcCOeH"
      },
      "execution_count": 47,
      "outputs": []
    },
    {
      "cell_type": "code",
      "source": [
        "for i in range(len(lambdas)):\n",
        "    modelo = Ridge(alpha=lambdas[i])\n",
        "    modelo.fit(X, Y)\n",
        "    score = modelo.score(X, Y)\n",
        "    scores.append(score)"
      ],
      "metadata": {
        "id": "-dZ2MAByCP7n"
      },
      "execution_count": 48,
      "outputs": []
    },
    {
      "cell_type": "code",
      "source": [
        "scores\n"
      ],
      "metadata": {
        "colab": {
          "base_uri": "https://localhost:8080/"
        },
        "id": "YGyyBBkuCQ7V",
        "outputId": "71f7049b-b572-4c23-a919-8dca09150334"
      },
      "execution_count": 49,
      "outputs": [
        {
          "output_type": "execute_result",
          "data": {
            "text/plain": [
              "[0.8214780764810597,\n",
              " 0.8214780764810524,\n",
              " 0.8214780764803157,\n",
              " 0.8214780764066552,\n",
              " 0.8214780690511909,\n",
              " 0.8214778919054474,\n",
              " 0.8214773439696236,\n",
              " 0.8214751919212024,\n",
              " 0.8214608607733552]"
            ]
          },
          "metadata": {},
          "execution_count": 49
        }
      ]
    },
    {
      "cell_type": "code",
      "source": [
        "modelo_final = Ridge(alpha=0.001)\n",
        "modelo_final.fit(X, Y)"
      ],
      "metadata": {
        "colab": {
          "base_uri": "https://localhost:8080/"
        },
        "id": "eyK649rgCU21",
        "outputId": "1101ce90-575d-4a28-d9bf-888ea96251e7"
      },
      "execution_count": 50,
      "outputs": [
        {
          "output_type": "execute_result",
          "data": {
            "text/plain": [
              "Ridge(alpha=0.001)"
            ]
          },
          "metadata": {},
          "execution_count": 50
        }
      ]
    },
    {
      "cell_type": "code",
      "source": [
        "Y_pred = modelo_final.predict(X)"
      ],
      "metadata": {
        "id": "YU4B0Wh5CWBq"
      },
      "execution_count": 51,
      "outputs": []
    },
    {
      "cell_type": "code",
      "source": [
        "fig, ax = plt.subplots(2, 3)\n",
        "ax[0,0].scatter(X[:,0],Y);\n",
        "ax[0,0].scatter(X[:,0],Y_pred,color='red');\n",
        "ax[0,0].set_xlabel('cylinders');\n",
        "ax[0,0].set_ylabel('mpg');\n",
        "\n",
        "ax[0,1].scatter(X[:,1],Y);\n",
        "ax[0,1].scatter(X[:,1],Y_pred,color='red');\n",
        "ax[0,1].set_xlabel('displacement');\n",
        "ax[0,1].set_ylabel('mpg');\n",
        "\n",
        "ax[0,2].scatter(X[:,3],Y);\n",
        "ax[0,2].scatter(X[:,3],Y_pred,color='red');\n",
        "ax[0,2].set_xlabel('horsepower');\n",
        "ax[0,2].set_ylabel('mpg');\n",
        "\n",
        "ax[1,0].scatter(X[:,4],Y);\n",
        "ax[1,0].scatter(X[:,4],Y_pred,color='red');\n",
        "ax[1,0].set_xlabel('weight');\n",
        "ax[1,0].set_ylabel('mpg');\n",
        "\n",
        "ax[1,1].scatter(X[:,5],Y);\n",
        "ax[1,1].scatter(X[:,5],Y_pred,color='red');\n",
        "ax[1,1].set_xlabel('acceleration');\n",
        "ax[1,1].set_ylabel('mpg');\n",
        "\n",
        "ax[1,2].scatter(X[:,6],Y);\n",
        "ax[1,2].scatter(X[:,6],Y_pred,color='red');\n",
        "ax[1,2].set_xlabel('year');\n",
        "ax[1,2].set_ylabel('mpg');\n",
        "\n",
        "plt.tight_layout();"
      ],
      "metadata": {
        "colab": {
          "base_uri": "https://localhost:8080/",
          "height": 297
        },
        "id": "USUeKrKMCW67",
        "outputId": "09a5ff79-1463-4feb-9a2c-9804187ae2af"
      },
      "execution_count": 52,
      "outputs": [
        {
          "output_type": "display_data",
          "data": {
            "text/plain": [
              "<Figure size 432x288 with 6 Axes>"
            ],
            "image/png": "[encoded data removed]"
          },
          "metadata": {
            "needs_background": "light"
          }
        }
      ]
    }
  ]
}